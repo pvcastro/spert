{
 "cells": [
  {
   "cell_type": "code",
   "execution_count": 6,
   "metadata": {},
   "outputs": [],
   "source": [
    "from pathlib import Path\n",
    "from tqdm import tqdm\n",
    "import json"
   ]
  },
  {
   "cell_type": "code",
   "execution_count": 2,
   "metadata": {},
   "outputs": [],
   "source": [
    "raw_nyt_path = Path(\"/media/discoD/repositorios/CasRel/data/NYT/raw_NYT/raw_nyt\")\n",
    "spert_path = Path(\"/media/discoD/repositorios/spert/data/datasets/nyt\")\n",
    "if not spert_path.exists():\n",
    "    spert_path.mkdir()"
   ]
  },
  {
   "cell_type": "code",
   "execution_count": 3,
   "metadata": {},
   "outputs": [],
   "source": [
    "nyt_train_path = raw_nyt_path / 'raw_train.json'\n",
    "nyt_valid_path = raw_nyt_path / 'raw_valid.json'\n",
    "nyt_test_path = raw_nyt_path / 'raw_test.json'\n",
    "nyt_train_spert_path = spert_path / 'train.json'\n",
    "nyt_valid_spert_path = spert_path / 'dev.json'\n",
    "nyt_test_spert_path = spert_path / 'test.json'\n",
    "nyt_types_path = spert_path / 'types.json'"
   ]
  },
  {
   "cell_type": "code",
   "execution_count": 9,
   "metadata": {},
   "outputs": [
    {
     "name": "stdout",
     "output_type": "stream",
     "text": [
      "{\"sentText\": \"Massachusetts ASTON MAGNA Great Barrington ; also at Bard College , Annandale-on-Hudson , N.Y. , July 1-Aug .\", \"articleId\": \"/m/vinci8/data1/riedel/projects/relation/kb/nyt1/docstore/nyt-2005-2006.backup/1669365.xml.pb\", \"relationMentions\": [{\"em1Text\": \"Annandale-on-Hudson\", \"em2Text\": \"Bard College\", \"label\": \"/location/location/contains\"}], \"entityMentions\": [{\"start\": 1, \"label\": \"ORGANIZATION\", \"text\": \"Bard College\"}, {\"start\": 2, \"label\": \"LOCATION\", \"text\": \"Annandale-on-Hudson\"}], \"sentId\": \"1\"}\n",
      "\n",
      "{'sentText': 'Massachusetts ASTON MAGNA Great Barrington ; also at Bard College , Annandale-on-Hudson , N.Y. , July 1-Aug .', 'articleId': '/m/vinci8/data1/riedel/projects/relation/kb/nyt1/docstore/nyt-2005-2006.backup/1669365.xml.pb', 'relationMentions': [{'em1Text': 'Annandale-on-Hudson', 'em2Text': 'Bard College', 'label': '/location/location/contains'}], 'entityMentions': [{'start': 1, 'label': 'ORGANIZATION', 'text': 'Bard College'}, {'start': 2, 'label': 'LOCATION', 'text': 'Annandale-on-Hudson'}], 'sentId': '1'}\n"
     ]
    }
   ],
   "source": [
    "for line in nyt_train_path.open(mode='r', encoding='utf-8').readlines():\n",
    "    print(line)\n",
    "    print(json.loads(line))\n",
    "    break"
   ]
  },
  {
   "cell_type": "code",
   "execution_count": 16,
   "metadata": {},
   "outputs": [],
   "source": [
    "def read_json(input_file):\n",
    "    data = []\n",
    "    for line in input_file.open(mode=\"r\", encoding='utf-8').readlines():\n",
    "        data.append(json.loads(line))\n",
    "    return data\n",
    "\n",
    "def save_json(json_path, examples):\n",
    "    with open(json_path, 'w') as outfile:\n",
    "        json.dump(examples, outfile)\n",
    "        \n",
    "def save_json_list(json_path, examples):\n",
    "    with open(json_path, 'w') as fp:\n",
    "        fp.write('\\n'.join(json.dumps(example) for example in examples))\n",
    "        \n",
    "def convert_nyt_to_spert_entities(sentence_tokens, entities_mentions):\n",
    "    entities = []\n",
    "    for entity_mention in entities_mentions:\n",
    "        entity_text = entity_mention['text']\n",
    "        entity_type = entity_mention['label']\n",
    "        entity_tokens = entity_text.split()\n",
    "        starting_tokens = [idx for idx, token in enumerate(sentence_tokens) if token == entity_tokens[0]]\n",
    "        for starting_token in starting_tokens:\n",
    "            entities.append({\n",
    "                \"type\": entity_type,\n",
    "                \"text\": entity_text,\n",
    "                \"tokens\": entity_tokens,\n",
    "                \"start\": starting_token,\n",
    "                \"end\": starting_token + len(entity_tokens)\n",
    "            })\n",
    "    return entities\n",
    "\n",
    "def convert_nyt_to_spert_relations(sentence_tokens, entities, relations_mentions):\n",
    "    relations = []\n",
    "    \n",
    "    def get_entities(entity_text):\n",
    "        return [(i, entity) for i, entity in enumerate(entities) if entity['text'] == entity_text]\n",
    "    \n",
    "    for relation_mention in relations_mentions:\n",
    "        subject = relation_mention[\"em1Text\"]\n",
    "        subject_entity = get_entities(subject)\n",
    "        _object = relation_mention[\"em2Text\"]\n",
    "        object_entity = get_entities(_object)\n",
    "        relation_type = relation_mention[\"label\"]\n",
    "        for subject_, object_ in zip(subject_entity, object_entity):\n",
    "            relations.append({\n",
    "                \"type\": relation_type,\n",
    "                \"head\": subject_[0],\n",
    "                \"tail\": object_[0]\n",
    "            })\n",
    "            \n",
    "    return relations\n",
    "        \n",
    "def convert_nyt_to_spert(raw_example):\n",
    "    tokens = [token for token in raw_example['sentText'].split()]\n",
    "    orig_id = raw_example['articleId']\n",
    "    entities_mentions = raw_example['entityMentions']\n",
    "    entities = convert_nyt_to_spert_entities(tokens, entities_mentions)\n",
    "    relations_mentions = raw_example['relationMentions']\n",
    "    relations = convert_nyt_to_spert_relations(tokens, entities, relations_mentions)\n",
    "    return {'tokens': tokens, 'entities': entities, 'relations': relations, 'orig_id': orig_id}\n",
    "\n",
    "# {\n",
    "#  \"sentText\": \"Massachusetts ASTON MAGNA Great Barrington ; also at Bard College , Annandale-on-Hudson , N.Y. , July 1-Aug .\", \n",
    "#  \"articleId\": \"/m/vinci8/data1/riedel/projects/relation/kb/nyt1/docstore/nyt-2005-2006.backup/1669365.xml.pb\", \n",
    "#  \"relationMentions\": [\n",
    "#      {\"em1Text\": \"Annandale-on-Hudson\", \"em2Text\": \"Bard College\", \"label\": \"/location/location/contains\"}\n",
    "#  ], \n",
    "#  \"entityMentions\": [\n",
    "#      {\"start\": 1, \"label\": \"ORGANIZATION\", \"text\": \"Bard College\"}, \n",
    "#      {\"start\": 2, \"label\": \"LOCATION\", \"text\": \"Annandale-on-Hudson\"}\n",
    "#  ], \n",
    "#  \"sentId\": \"1\"\n",
    "# }\n",
    "\n",
    "# {\n",
    "#     \"tokens\": [\"Newspaper\", \"`\", \"Explains\", \"'\", \"U.S.\", \"Interests\", \"Section\", \"Events\", \"FL1402001894\", \"Havana\", \"Radio\", \"Reloj\", \"Network\", \"in\", \"Spanish\", \"2100\", \"GMT\", \"13\", \"Feb\", \"94\"], \n",
    "#     \"entities\": [\n",
    "#         {\"type\": \"Loc\", \"start\": 4, \"end\": 5}, \n",
    "#         {\"type\": \"Loc\", \"start\": 9, \"end\": 10}, \n",
    "#         {\"type\": \"Org\", \"start\": 10, \"end\": 13}, \n",
    "#         {\"type\": \"Other\", \"start\": 15, \"end\": 17}, \n",
    "#         {\"type\": \"Other\", \"start\": 17, \"end\": 20}\n",
    "#     ], \n",
    "#     \"relations\": [\n",
    "#         {\"type\": \"OrgBased_In\", \"head\": 2, \"tail\": 1}\n",
    "#     ], \n",
    "#     \"orig_id\": 3255\n",
    "# }\n",
    "\n",
    "def convert_nyt_dataset_to_spert_format(in_file_path, out_file_path):\n",
    "    examples = read_json(in_file_path)\n",
    "    converted_examples = []\n",
    "    for example in tqdm(examples, 'Examples from %s' % in_file_path):\n",
    "        converted_examples.append(convert_nyt_to_spert(example))\n",
    "    save_json(out_file_path, converted_examples)\n",
    "\n",
    "def convert_nyt_benchmark_to_spert_format():\n",
    "    convert_nyt_dataset_to_spert_format(nyt_train_path, nyt_train_spert_path)\n",
    "    convert_nyt_dataset_to_spert_format(nyt_valid_path, nyt_valid_spert_path)\n",
    "    convert_nyt_dataset_to_spert_format(nyt_test_path, nyt_test_spert_path)"
   ]
  },
  {
   "cell_type": "code",
   "execution_count": 17,
   "metadata": {},
   "outputs": [
    {
     "name": "stderr",
     "output_type": "stream",
     "text": [
      "Examples from /media/discoD/repositorios/CasRel/data/NYT/raw_NYT/raw_nyt/raw_train.json: 100%|██████████| 56196/56196 [00:05<00:00, 10654.71it/s]\n",
      "Examples from /media/discoD/repositorios/CasRel/data/NYT/raw_NYT/raw_nyt/raw_valid.json: 100%|██████████| 5000/5000 [00:00<00:00, 24995.58it/s]\n",
      "Examples from /media/discoD/repositorios/CasRel/data/NYT/raw_NYT/raw_nyt/raw_test.json: 100%|██████████| 5000/5000 [00:00<00:00, 9555.61it/s] \n"
     ]
    }
   ],
   "source": [
    "convert_nyt_benchmark_to_spert_format()"
   ]
  },
  {
   "cell_type": "code",
   "execution_count": null,
   "metadata": {},
   "outputs": [],
   "source": [
    "print(tacred_example['token'][tacred_example['subj_start']:tacred_example['subj_end'] + 1])\n",
    "print(tacred_example['token'][tacred_example['obj_start']:tacred_example['obj_end'] + 1])"
   ]
  },
  {
   "cell_type": "code",
   "execution_count": 9,
   "metadata": {},
   "outputs": [],
   "source": [
    "convert_tacred_benchmark_to_conll04_format()"
   ]
  },
  {
   "cell_type": "code",
   "execution_count": null,
   "metadata": {},
   "outputs": [],
   "source": [
    "tacred_train_examples = read_json(tacred_train_path)\n",
    "tacred_train_examples"
   ]
  },
  {
   "cell_type": "code",
   "execution_count": null,
   "metadata": {},
   "outputs": [],
   "source": [
    "conll04_train_examples = read_json(conll04_train_path)\n",
    "conll04_train_examples"
   ]
  },
  {
   "cell_type": "code",
   "execution_count": null,
   "metadata": {},
   "outputs": [],
   "source": [
    "convert_tacred_to_conll04(tacred_train_examples[0])"
   ]
  },
  {
   "cell_type": "code",
   "execution_count": null,
   "metadata": {},
   "outputs": [],
   "source": [
    "tacred_train_examples = read_json(tacred_train_path)\n",
    "tacred_dev_examples = read_json(tacred_dev_path)\n",
    "tacred_test_examples = read_json(tacred_test_path)\n",
    "tacred_examples = tacred_train_examples + tacred_dev_examples + tacred_test_examples"
   ]
  },
  {
   "cell_type": "code",
   "execution_count": null,
   "metadata": {},
   "outputs": [],
   "source": [
    "print('Loaded %s examples' % len(tacred_examples))"
   ]
  },
  {
   "cell_type": "code",
   "execution_count": null,
   "metadata": {},
   "outputs": [],
   "source": [
    "tacred_examples[0]"
   ]
  },
  {
   "cell_type": "code",
   "execution_count": null,
   "metadata": {},
   "outputs": [],
   "source": [
    "entity_types = set()\n",
    "relation_types = set()\n",
    "for example in tacred_examples:\n",
    "    relation_types.add(example['relation'])\n",
    "    entity_types.add(example['subj_type'])\n",
    "    entity_types.add(example['obj_type'])\n",
    "print(entity_types)\n",
    "print(relation_types)"
   ]
  },
  {
   "cell_type": "code",
   "execution_count": null,
   "metadata": {},
   "outputs": [],
   "source": [
    "entities={\n",
    "             \"entities\": {\n",
    "                 \"MISC\": {\"short\": \"Misc\", \"verbose\": \"Miscellaneous\"}, \n",
    "                 \"RELIGION\": {\"short\": \"Relig\", \"verbose\": \"Religion\"}, \n",
    "                 \"ORGANIZATION\": {\"short\": \"Org\", \"verbose\":\"Organization\"}, \n",
    "                 \"LOCATION\": {\"short\": \"Loc\", \"verbose\": \"Location\"},\n",
    "                 \"DURATION\": {\"short\": \"Dur\", \"verbose\": \"Duration\"},\n",
    "                 \"COUNTRY\": {\"short\": \"Cntr\", \"verbose\": \"Country\"},\n",
    "                 \"NATIONALITY\": {\"short\": \"Nation\", \"verbose\": \"Nationality\"},\n",
    "                 \"CAUSE_OF_DEATH\": {\"short\": \"CoD\", \"verbose\": \"Cause of Death\"},\n",
    "                 \"IDEOLOGY\": {\"short\": \"Ideo\", \"verbose\": \"Ideology\"},\n",
    "                 \"URL\": {\"short\": \"url\", \"verbose\": \"URL\"},\n",
    "                 \"STATE_OR_PROVINCE\": {\"short\": \"SoP\", \"verbose\": \"State or Province\"},\n",
    "                 \"NUMBER\": {\"short\": \"Num\", \"verbose\": \"Number\"},\n",
    "                 \"CRIMINAL_CHARGE\": {\"short\": \"Crim\", \"verbose\": \"Criminal Charge\"},\n",
    "                 \"TITLE\": {\"short\": \"Tit\", \"verbose\": \"Title\"},\n",
    "                 \"PERSON\": {\"short\": \"Per\", \"verbose\": \"Person\"},\n",
    "                 \"DATE\": {\"short\": \"Dat\", \"verbose\": \"Date\"},\n",
    "                 \"CITY\": {\"short\": \"Cit\", \"verbose\": \"City\"}\n",
    "             }\n",
    "         }"
   ]
  },
  {
   "cell_type": "code",
   "execution_count": null,
   "metadata": {},
   "outputs": [],
   "source": [
    "relations={\n",
    "             \"relations\": {\n",
    "                 \"org:city_of_headquarters\": {\"short\": \"City of Headquarters\", \"verbose\": \"City of Headquarters\", \"symmetric\": false}, \n",
    "                 \"per:spouse\": {\"short\": \"Spouse\", \"verbose\": \"Spouse\", \"symmetric\": false}, \n",
    "                 \"per:cities_of_residence\": {\"short\": \"Cities of Residence\", \"verbose\": \"Cities of Residence\", \"symmetric\": false}, \n",
    "                 \"per:city_of_death\": {\"short\": \"City of Death\", \"verbose\": \"City of Death\", \"symmetric\": false}, \n",
    "                 \"org:country_of_headquarters\": {\"short\": \"Country of Headquarters\", \"verbose\": \"Country of Headquarters\", \"symmetric\": false}, \n",
    "                 \"per:country_of_birth\": {\"short\": \"Country of Birth\", \"verbose\": \"Country of Birth\", \"symmetric\": false}, \n",
    "                 \"per:siblings\": {\"short\": \"Siblings\", \"verbose\": \"Siblings\", \"symmetric\": false}, \n",
    "                 \"org:shareholders\": {\"short\": \"Shareholders\", \"verbose\": \"Shareholders\", \"symmetric\": false}, \n",
    "                 \"org:member_of\": {\"short\": \"Member of\", \"verbose\": \"Member of\", \"symmetric\": false}, \n",
    "                 \"org:dissolved\": {\"short\": \"Dissolved\", \"verbose\": \"Dissolved\", \"symmetric\": false}, \n",
    "                 \"per:schools_attended\": {\"short\": \"Schools Attended\", \"verbose\": \"Schools Attended\", \"symmetric\": false}, \n",
    "                 \"org:political/religious_affiliation\": {\"short\": \"Political/Religious affiliation\", \"verbose\": \"Political/Religious affiliation\", \"symmetric\": false}, \n",
    "                 \"per:city_of_birth\": {\"short\": \"City of Birth\", \"verbose\": \"City of Birth\", \"symmetric\": false}, \n",
    "                 \"per:children\": {\"short\": \"Children\", \"verbose\": \"Children\", \"symmetric\": false}, \n",
    "                 \"org:top_members/employees\": {\"short\": \"Top Members / Employees\", \"verbose\": \"Top Members / Employees\", \"symmetric\": false}, \n",
    "                 \"per:stateorprovince_of_birth\": {\"short\": \"State or Province of Birth\", \"verbose\": \"State or Province of Birth\", \"symmetric\": false}, \n",
    "                 \"per:stateorprovince_of_death\": {\"short\": \"State or Province of Death\", \"verbose\": \"State or Province of Death\", \"symmetric\": false}, \n",
    "                 \"org:number_of_employees/members\": {\"short\": \"Number of Employees/Members\", \"verbose\": \"Number of Employees/Members\", \"symmetric\": false}, \n",
    "                 \"per:countries_of_residence\": {\"short\": \"Countries of Residence\", \"verbose\": \"Countries of Residence\", \"symmetric\": false}, \n",
    "                 \"org:founded\": {\"short\": \"Founded\", \"verbose\": \"Founded\", \"symmetric\": false}, \n",
    "                 \"per:country_of_death\": {\"short\": \"Country of Death\", \"verbose\": \"Country of Death\", \"symmetric\": false}, \n",
    "                 \"per:title\": {\"short\": \"Title\", \"verbose\": \"Title\", \"symmetric\": false}, \n",
    "                 \"org:stateorprovince_of_headquarters\": {\"short\": \"State or Province of Headquarters\", \"verbose\": \"State or Province of Headquarters\", \"symmetric\": false}, \n",
    "                 \"per:religion\": {\"short\": \"Religion\", \"verbose\": \"Religion\", \"symmetric\": false}, \n",
    "                 \"org:founded_by\": {\"short\": \"Founded by\", \"verbose\": \"Founded by\", \"symmetric\": false}, \n",
    "                 \"per:age\": {\"short\": \"Age\", \"verbose\": \"Age\", \"symmetric\": false}, \n",
    "                 \"no_relation\": {\"short\": \"No Relation\", \"verbose\": \"No Relation\", \"symmetric\": false}, \n",
    "                 \"per:stateorprovinces_of_residence\": {\"short\": \"State or Provinces of Residence\", \"verbose\": \"State or Provinces of Residence\", \"symmetric\": false}, \n",
    "                 \"org:website\": {\"short\": \"Website\", \"verbose\": \"Website\", \"symmetric\": false}, \n",
    "                 \"per:employee_of\": {\"short\": \"Employee Of\", \"verbose\": \"Employee Of\", \"symmetric\": false}, \n",
    "                 \"org:parents\": {\"short\": \"Organization Parents\", \"verbose\": \"Organization Parents\", \"symmetric\": false}, \n",
    "                 \"per:parents\": {\"short\": \"Person Parents\", \"verbose\": \"Person Parents\", \"symmetric\": false}, \n",
    "                 \"org:alternate_names\": {\"short\": \"Organization Alternate Names\", \"verbose\": \"Organization Alternate Names\", \"symmetric\": false}, \n",
    "                 \"org:subsidiaries\": {\"short\": \"Subsidiaries\", \"verbose\": \"Subsidiaries\", \"symmetric\": false}, \n",
    "                 \"per:alternate_names\": {\"short\": \"Person Alternate Names\", \"verbose\": \"Person Alternate Names\", \"symmetric\": false}, \n",
    "                 \"per:cause_of_death\": {\"short\": \"Cause of Death\", \"verbose\": \"Cause of Death\", \"symmetric\": false}, \n",
    "                 \"per:date_of_death\": {\"short\": \"Date of Death\", \"verbose\": \"Date of Death\", \"symmetric\": false}, \n",
    "                 \"org:members\": {\"short\": \"Members\", \"verbose\": \"Members\", \"symmetric\": false}, \n",
    "                 \"per:date_of_birth\": {\"short\": \"Date of Birth\", \"verbose\": \"Date of Birth\", \"symmetric\": false}, \n",
    "                 \"per:charges\": {\"short\": \"Charges\", \"verbose\": \"Charges\", \"symmetric\": false}, \n",
    "                 \"per:origin\": {\"short\": \"Origin\", \"verbose\": \"Origin\", \"symmetric\": false}, \n",
    "                 \"per:other_family\": {\"short\": \"Other Family\", \"verbose\": \"Other Family\", \"symmetric\": false}\n",
    "             }\n",
    "         }"
   ]
  },
  {
   "cell_type": "code",
   "execution_count": 45,
   "metadata": {},
   "outputs": [],
   "source": [
    "convert_tacred_benchmark_to_semeval_format()"
   ]
  },
  {
   "cell_type": "code",
   "execution_count": 26,
   "metadata": {},
   "outputs": [],
   "source": [
    "tacred_semeval_examples = read_json(tacred_train_path_semeval)"
   ]
  },
  {
   "cell_type": "code",
   "execution_count": 27,
   "metadata": {
    "scrolled": false
   },
   "outputs": [
    {
     "name": "stdout",
     "output_type": "stream",
     "text": [
      "{'org:dissolved', 'org:city_of_headquarters', 'per:title', 'org:founded_by', 'org:alternate_names', 'no_relation', 'per:children', 'org:members', 'per:date_of_death', 'per:religion', 'per:other_family', 'per:origin', 'org:country_of_headquarters', 'org:member_of', 'per:countries_of_residence', 'per:cause_of_death', 'org:number_of_employees/members', 'org:founded', 'org:subsidiaries', 'per:cities_of_residence', 'org:top_members/employees', 'per:parents', 'per:city_of_birth', 'org:shareholders', 'per:employee_of', 'per:country_of_birth', 'per:age', 'per:country_of_death', 'per:alternate_names', 'org:website', 'per:stateorprovince_of_birth', 'per:stateorprovinces_of_residence', 'org:political/religious_affiliation', 'per:siblings', 'per:date_of_birth', 'org:parents', 'per:charges', 'per:stateorprovince_of_death', 'per:spouse', 'per:city_of_death', 'org:stateorprovince_of_headquarters', 'per:schools_attended'}\n"
     ]
    }
   ],
   "source": [
    "relations = set()\n",
    "for example in tacred_semeval_examples:\n",
    "    relations.add(example['relation'])\n",
    "print(relations)"
   ]
  },
  {
   "cell_type": "code",
   "execution_count": 30,
   "metadata": {},
   "outputs": [],
   "source": [
    "relations_list = {}\n",
    "for idx, relation in enumerate(relations):\n",
    "    relations_list[relation] = idx\n",
    "save_json(tacred_rel2id_path_semeval, relations_list)"
   ]
  },
  {
   "cell_type": "code",
   "execution_count": 32,
   "metadata": {},
   "outputs": [
    {
     "ename": "TypeError",
     "evalue": "dumps() takes 1 positional argument but 2 were given",
     "output_type": "error",
     "traceback": [
      "\u001b[0;31m---------------------------------------------------------------------------\u001b[0m",
      "\u001b[0;31mTypeError\u001b[0m                                 Traceback (most recent call last)",
      "\u001b[0;32m<ipython-input-32-257fa61a84d7>\u001b[0m in \u001b[0;36m<module>\u001b[0;34m\u001b[0m\n\u001b[0;32m----> 1\u001b[0;31m \u001b[0msave_json_list\u001b[0m\u001b[0;34m(\u001b[0m\u001b[0;34m'test.json'\u001b[0m\u001b[0;34m,\u001b[0m \u001b[0;34m[\u001b[0m\u001b[0msemeval_example\u001b[0m\u001b[0;34m,\u001b[0m \u001b[0msemeval_example\u001b[0m\u001b[0;34m]\u001b[0m\u001b[0;34m)\u001b[0m\u001b[0;34m\u001b[0m\u001b[0;34m\u001b[0m\u001b[0m\n\u001b[0m",
      "\u001b[0;32m<ipython-input-31-2ad3d0f255f6>\u001b[0m in \u001b[0;36msave_json_list\u001b[0;34m(json_path, examples)\u001b[0m\n\u001b[1;32m     10\u001b[0m \u001b[0;32mdef\u001b[0m \u001b[0msave_json_list\u001b[0m\u001b[0;34m(\u001b[0m\u001b[0mjson_path\u001b[0m\u001b[0;34m,\u001b[0m \u001b[0mexamples\u001b[0m\u001b[0;34m)\u001b[0m\u001b[0;34m:\u001b[0m\u001b[0;34m\u001b[0m\u001b[0;34m\u001b[0m\u001b[0m\n\u001b[1;32m     11\u001b[0m     \u001b[0;32mwith\u001b[0m \u001b[0mopen\u001b[0m\u001b[0;34m(\u001b[0m\u001b[0mjson_path\u001b[0m\u001b[0;34m,\u001b[0m \u001b[0;34m'w'\u001b[0m\u001b[0;34m)\u001b[0m \u001b[0;32mas\u001b[0m \u001b[0moutfile\u001b[0m\u001b[0;34m:\u001b[0m\u001b[0;34m\u001b[0m\u001b[0;34m\u001b[0m\u001b[0m\n\u001b[0;32m---> 12\u001b[0;31m         \u001b[0mjson\u001b[0m\u001b[0;34m.\u001b[0m\u001b[0mdumps\u001b[0m\u001b[0;34m(\u001b[0m\u001b[0mexamples\u001b[0m\u001b[0;34m,\u001b[0m \u001b[0moutfile\u001b[0m\u001b[0;34m)\u001b[0m\u001b[0;34m\u001b[0m\u001b[0;34m\u001b[0m\u001b[0m\n\u001b[0m\u001b[1;32m     13\u001b[0m \u001b[0;34m\u001b[0m\u001b[0m\n\u001b[1;32m     14\u001b[0m \u001b[0;32mdef\u001b[0m \u001b[0mconvert_token\u001b[0m\u001b[0;34m(\u001b[0m\u001b[0mtoken\u001b[0m\u001b[0;34m)\u001b[0m\u001b[0;34m:\u001b[0m\u001b[0;34m\u001b[0m\u001b[0;34m\u001b[0m\u001b[0m\n",
      "\u001b[0;31mTypeError\u001b[0m: dumps() takes 1 positional argument but 2 were given"
     ]
    }
   ],
   "source": [
    "save_json_list('test.json', [semeval_example, semeval_example])"
   ]
  },
  {
   "cell_type": "code",
   "execution_count": null,
   "metadata": {},
   "outputs": [],
   "source": []
  }
 ],
 "metadata": {
  "kernelspec": {
   "display_name": "Spacy Stanza",
   "language": "python",
   "name": "spacy-stanza"
  },
  "language_info": {
   "codemirror_mode": {
    "name": "ipython",
    "version": 3
   },
   "file_extension": ".py",
   "mimetype": "text/x-python",
   "name": "python",
   "nbconvert_exporter": "python",
   "pygments_lexer": "ipython3",
   "version": "3.7.7"
  }
 },
 "nbformat": 4,
 "nbformat_minor": 2
}
