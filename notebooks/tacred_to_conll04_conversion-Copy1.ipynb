{
 "cells": [
  {
   "cell_type": "code",
   "execution_count": 1,
   "metadata": {},
   "outputs": [],
   "source": [
    "from pathlib import Path\n",
    "import json"
   ]
  },
  {
   "cell_type": "code",
   "execution_count": 2,
   "metadata": {},
   "outputs": [],
   "source": [
    "tacred_train_path = Path('/media/discoD/Corpora/TACRED/tacred/data/json/train.json')\n",
    "tacred_dev_path = Path('/media/discoD/Corpora/TACRED/tacred/data/json/dev.json')\n",
    "tacred_test_path = Path('/media/discoD/Corpora/TACRED/tacred/data/json/test.json')\n",
    "conll04_train_path = Path('../data/datasets/conll04/conll04_train.json')\n",
    "tacred_train_path_conll04 = Path('/media/discoD/Corpora/TACRED/tacred/data/json/train_conll04.json')\n",
    "tacred_dev_path_conll04 = Path('/media/discoD/Corpora/TACRED/tacred/data/json/dev_conll04.json')\n",
    "tacred_test_path_conll04 = Path('/media/discoD/Corpora/TACRED/tacred/data/json/test_conll04.json')\n",
    "tacred_train_path_semeval = Path('/media/discoD/repositorios/OpenNRE/benchmark/tacred/train.json')\n",
    "tacred_dev_path_semeval = Path('/media/discoD/repositorios/OpenNRE/benchmark/tacred/dev.json')\n",
    "tacred_test_path_semeval = Path('/media/discoD/repositorios/OpenNRE/benchmark/tacred/test.json')\n",
    "tacred_rel2id_path_semeval = Path('/media/discoD/repositorios/OpenNRE/benchmark/tacred/rel2id.json')"
   ]
  },
  {
   "cell_type": "code",
   "execution_count": 7,
   "metadata": {},
   "outputs": [],
   "source": [
    "def read_json(input_file):\n",
    "    with open(input_file, \"r\", encoding='utf-8') as reader:\n",
    "        data = json.load(reader)\n",
    "    return data\n",
    "\n",
    "def save_json(json_path, examples):\n",
    "    with open(json_path, 'w') as outfile:\n",
    "        json.dump(examples, outfile)\n",
    "        \n",
    "def save_json_list(json_path, examples):\n",
    "    with open(json_path, 'w') as fp:\n",
    "        fp.write('\\n'.join(json.dumps(example) for example in examples))\n",
    "\n",
    "def convert_token(token):\n",
    "    \"\"\" Convert PTB tokens to normal tokens \"\"\"\n",
    "    if (token.lower() == '-lrb-'):\n",
    "        return '('\n",
    "    elif (token.lower() == '-rrb-'):\n",
    "        return ')'\n",
    "    elif (token.lower() == '-lsb-'):\n",
    "        return '['\n",
    "    elif (token.lower() == '-rsb-'):\n",
    "        return ']'\n",
    "    elif (token.lower() == '-lcb-'):\n",
    "        return '{'\n",
    "    elif (token.lower() == '-rcb-'):\n",
    "        return '}'\n",
    "    return token\n",
    "        \n",
    "def convert_tacred_to_conll04(tacred_example):\n",
    "    sentence = [convert_token(token) for token in tacred_example['token']]\n",
    "    head_first = tacred_example['subj_start'] < tacred_example['obj_start']\n",
    "    return {'tokens': sentence, \n",
    "            'entities': [{'type': tacred_example['subj_type'], 'start': tacred_example['subj_start'], 'end': int(tacred_example['subj_end']) + 1}, \n",
    "                         {'type': tacred_example['obj_type'], 'start': tacred_example['obj_start'], 'end': int(tacred_example['obj_end']) + 1}\n",
    "                        ],\n",
    "            'relations': [{'type': tacred_example['relation'], 'head': 0 if head_first else 1, 'tail': 1 if head_first else 0}],\n",
    "            'orig_id': tacred_example['id']\n",
    "           }\n",
    "\n",
    "# {\n",
    "#     \"token\":[ \"we\", \"dissolved\", \"the\", \"contents\", \"of\", \"one\", \"packet\", \"in\", \"a\", \"carafe\", \"of\", \"water\", \"and\", \"ran\", \"the\", \"brew\", \"cycle\", \".\" ],\n",
    "#     \"h\":{\n",
    "#         \"name\":\"carafe\",\n",
    "#         \"pos\":[\n",
    "#             9,\n",
    "#             10\n",
    "#         ]\n",
    "#     },\n",
    "#     \"t\":{\n",
    "#         \"name\":\"water\",\n",
    "#         \"pos\":[\n",
    "#             11,\n",
    "#             12\n",
    "#         ]\n",
    "#     },\n",
    "#     \"relation\":\"Content-Container(e2,e1)\"\n",
    "# }\n",
    "\n",
    "# tacred_example = {'id': \"e7798fb926b9403cfcd2\",\n",
    "#     'docid': \"APW_ENG_20101103.0539\",\n",
    "#     'relation': \"per:title\",\n",
    "#     'token': [\"At\", \"the\", \"same\", \"time\", \",\", \"Chief\", \"Financial\", \"Officer\", \"Douglas\", \"Flint\", \"will\",\n",
    "#         \"become\", \"chairman\", \",\", \"succeeding\", \"Stephen\", \"Green\", \"who\", \"is\", \"leaving\", \"to\", \"take\", \n",
    "#         \"a\", \"government\", \"job\", \".\" ],\n",
    "#     'subj_start': 8,\n",
    "#     'subj_end': 9,\n",
    "#     'obj_start': 12,\n",
    "#     'obj_end': 12,\n",
    "#     'subj_type': \"PERSON\",\n",
    "#     'obj_type': \"TITLE\"}\n",
    "\n",
    "def convert_tacred_to_semeval(tacred_example):\n",
    "    sentence = [convert_token(token) for token in tacred_example['token']]\n",
    "    \n",
    "    head_start = tacred_example['subj_start']\n",
    "    head_end = tacred_example['subj_end'] + 1\n",
    "    head_name = ' '.join(tacred_example['token'][tacred_example['subj_start']:tacred_example['subj_end'] + 1])\n",
    "\n",
    "    tail_start = tacred_example['obj_start']\n",
    "    tail_end = tacred_example['obj_end'] + 1\n",
    "    tail_name = ' '.join(tacred_example['token'][tacred_example['obj_start']:tacred_example['obj_end'] + 1])\n",
    "    \n",
    "    return {'token': sentence, \n",
    "            'h': {\n",
    "                'name': head_name,\n",
    "                'pos': [head_start, head_end]\n",
    "            },\n",
    "            't': {\n",
    "                'name': tail_name,\n",
    "                'pos': [tail_start, tail_end]\n",
    "            },\n",
    "            'relation': tacred_example['relation']}\n",
    "\n",
    "def convert_tacred_dataset_to_conll04_format(in_file_path, out_file_path):\n",
    "    examples = read_json(in_file_path)\n",
    "    converted_examples = []\n",
    "    for example in examples:\n",
    "        converted_examples.append(convert_tacred_to_conll04(example))\n",
    "    save_json(out_file_path, converted_examples)\n",
    "\n",
    "def convert_tacred_benchmark_to_conll04_format():\n",
    "    convert_tacred_dataset_to_conll04_format(tacred_train_path, tacred_train_path_conll04)\n",
    "    convert_tacred_dataset_to_conll04_format(tacred_dev_path, tacred_dev_path_conll04)\n",
    "    convert_tacred_dataset_to_conll04_format(tacred_test_path, tacred_test_path_conll04)\n",
    "    \n",
    "def convert_tacred_dataset_to_semeval_format(in_file_path, out_file_path):\n",
    "    examples = read_json(in_file_path)\n",
    "    converted_examples = []\n",
    "    for example in examples:\n",
    "        converted_examples.append(convert_tacred_to_semeval(example))\n",
    "    save_json_list(out_file_path, converted_examples)\n",
    "\n",
    "def convert_tacred_benchmark_to_semeval_format():\n",
    "    convert_tacred_dataset_to_semeval_format(tacred_train_path, tacred_train_path_semeval)\n",
    "    convert_tacred_dataset_to_semeval_format(tacred_dev_path, tacred_dev_path_semeval)\n",
    "    convert_tacred_dataset_to_semeval_format(tacred_test_path, tacred_test_path_semeval)"
   ]
  },
  {
   "cell_type": "code",
   "execution_count": null,
   "metadata": {},
   "outputs": [],
   "source": [
    "semeval_example = {\n",
    "    \"token\":[ \"we\", \"dissolved\", \"the\", \"contents\", \"of\", \"one\", \"packet\", \"in\", \"a\", \"carafe\", \"of\", \"water\", \"and\", \"ran\", \"the\", \"brew\", \"cycle\", \".\" ],\n",
    "    \"h\":{\n",
    "        \"name\":\"carafe\",\n",
    "        \"pos\":[\n",
    "            9,\n",
    "            10\n",
    "        ]\n",
    "    },\n",
    "    \"t\":{\n",
    "        \"name\":\"water\",\n",
    "        \"pos\":[\n",
    "            11,\n",
    "            12\n",
    "        ]\n",
    "    },\n",
    "    \"relation\":\"Content-Container(e2,e1)\"\n",
    "}"
   ]
  },
  {
   "cell_type": "code",
   "execution_count": null,
   "metadata": {},
   "outputs": [],
   "source": [
    "semeval_example['token'][semeval_example['h']['pos'][0]:semeval_example['h']['pos'][1]]\n",
    "semeval_example['token'][semeval_example['t']['pos'][0]:semeval_example['t']['pos'][1]]"
   ]
  },
  {
   "cell_type": "code",
   "execution_count": null,
   "metadata": {},
   "outputs": [],
   "source": [
    "tacred_conll_example = {\n",
    "    \"tokens\":[ \"Tom\", \"Thabane\", \"resigned\", \"in\", \"October\", \"last\", \"year\", \"to\", \"form\", \"the\", \"All\", \"Basotho\",\n",
    "        \"Convention\", \"(\", \"ABC\", \")\", \",\", \"crossing\", \"the\", \"floor\", \"with\", \"17\", \"members\", \"of\", \"parliament\",\n",
    "        \",\", \"causing\", \"constitutional\", \"monarch\", \"King\", \"Letsie\", \"III\", \"to\", \"dissolve\", \"parliament\", \"and\",\n",
    "        \"call\", \"the\", \"snap\", \"election\", \".\" ],\n",
    "    \"entities\":[\n",
    "        {\n",
    "            \"type\":\"ORGANIZATION\",\n",
    "            \"start\":10,\n",
    "            \"end\":13\n",
    "        },\n",
    "        {\n",
    "            \"type\":\"PERSON\",\n",
    "            \"start\":0,\n",
    "            \"end\":2\n",
    "        }\n",
    "    ],\n",
    "    \"relations\":[\n",
    "        {\n",
    "            \"type\":\"org:founded_by\",\n",
    "            \"head\":0,\n",
    "            \"tail\":1\n",
    "        }\n",
    "    ],\n",
    "    \"orig_id\":\"61b3a5c8c9a882dcfcd2\"\n",
    "}"
   ]
  },
  {
   "cell_type": "code",
   "execution_count": null,
   "metadata": {},
   "outputs": [],
   "source": [
    "print(tacred_conll_example['tokens'][tacred_conll_example['entities'][0]['start']:tacred_conll_example['entities'][0]['end']])\n",
    "print(tacred_conll_example['tokens'][tacred_conll_example['entities'][1]['start']:tacred_conll_example['entities'][1]['end']])"
   ]
  },
  {
   "cell_type": "code",
   "execution_count": 5,
   "metadata": {},
   "outputs": [],
   "source": [
    "tacred_example = {'id': \"e7798fb926b9403cfcd2\",\n",
    "    'docid': \"APW_ENG_20101103.0539\",\n",
    "    'relation': \"per:title\",\n",
    "    'token': [\"At\", \"the\", \"same\", \"time\", \",\", \"Chief\", \"Financial\", \"Officer\", \"Douglas\", \"Flint\", \"will\",\n",
    "        \"become\", \"chairman\", \",\", \"succeeding\", \"Stephen\", \"Green\", \"who\", \"is\", \"leaving\", \"to\", \"take\", \n",
    "        \"a\", \"government\", \"job\", \".\" ],\n",
    "    'subj_start': 8,\n",
    "    'subj_end': 9,\n",
    "    'obj_start': 12,\n",
    "    'obj_end': 12,\n",
    "    'subj_type': \"PERSON\",\n",
    "    'obj_type': \"TITLE\"}"
   ]
  },
  {
   "cell_type": "code",
   "execution_count": 8,
   "metadata": {},
   "outputs": [
    {
     "data": {
      "text/plain": [
       "{'tokens': ['At',\n",
       "  'the',\n",
       "  'same',\n",
       "  'time',\n",
       "  ',',\n",
       "  'Chief',\n",
       "  'Financial',\n",
       "  'Officer',\n",
       "  'Douglas',\n",
       "  'Flint',\n",
       "  'will',\n",
       "  'become',\n",
       "  'chairman',\n",
       "  ',',\n",
       "  'succeeding',\n",
       "  'Stephen',\n",
       "  'Green',\n",
       "  'who',\n",
       "  'is',\n",
       "  'leaving',\n",
       "  'to',\n",
       "  'take',\n",
       "  'a',\n",
       "  'government',\n",
       "  'job',\n",
       "  '.'],\n",
       " 'entities': [{'type': 'PERSON', 'start': 8, 'end': 10},\n",
       "  {'type': 'TITLE', 'start': 12, 'end': 13}],\n",
       " 'relations': [{'type': 'per:title', 'head': 0, 'tail': 1}],\n",
       " 'orig_id': 'e7798fb926b9403cfcd2'}"
      ]
     },
     "execution_count": 8,
     "metadata": {},
     "output_type": "execute_result"
    }
   ],
   "source": [
    "convert_tacred_to_conll04(tacred_example)"
   ]
  },
  {
   "cell_type": "code",
   "execution_count": null,
   "metadata": {},
   "outputs": [],
   "source": [
    "print(tacred_example['token'][tacred_example['subj_start']:tacred_example['subj_end'] + 1])\n",
    "print(tacred_example['token'][tacred_example['obj_start']:tacred_example['obj_end'] + 1])"
   ]
  },
  {
   "cell_type": "code",
   "execution_count": 9,
   "metadata": {},
   "outputs": [],
   "source": [
    "convert_tacred_benchmark_to_conll04_format()"
   ]
  },
  {
   "cell_type": "code",
   "execution_count": null,
   "metadata": {},
   "outputs": [],
   "source": [
    "tacred_train_examples = read_json(tacred_train_path)\n",
    "tacred_train_examples"
   ]
  },
  {
   "cell_type": "code",
   "execution_count": null,
   "metadata": {},
   "outputs": [],
   "source": [
    "conll04_train_examples = read_json(conll04_train_path)\n",
    "conll04_train_examples"
   ]
  },
  {
   "cell_type": "code",
   "execution_count": null,
   "metadata": {},
   "outputs": [],
   "source": [
    "convert_tacred_to_conll04(tacred_train_examples[0])"
   ]
  },
  {
   "cell_type": "code",
   "execution_count": null,
   "metadata": {},
   "outputs": [],
   "source": [
    "tacred_train_examples = read_json(tacred_train_path)\n",
    "tacred_dev_examples = read_json(tacred_dev_path)\n",
    "tacred_test_examples = read_json(tacred_test_path)\n",
    "tacred_examples = tacred_train_examples + tacred_dev_examples + tacred_test_examples"
   ]
  },
  {
   "cell_type": "code",
   "execution_count": null,
   "metadata": {},
   "outputs": [],
   "source": [
    "print('Loaded %s examples' % len(tacred_examples))"
   ]
  },
  {
   "cell_type": "code",
   "execution_count": null,
   "metadata": {},
   "outputs": [],
   "source": [
    "tacred_examples[0]"
   ]
  },
  {
   "cell_type": "code",
   "execution_count": null,
   "metadata": {},
   "outputs": [],
   "source": [
    "entity_types = set()\n",
    "relation_types = set()\n",
    "for example in tacred_examples:\n",
    "    relation_types.add(example['relation'])\n",
    "    entity_types.add(example['subj_type'])\n",
    "    entity_types.add(example['obj_type'])\n",
    "print(entity_types)\n",
    "print(relation_types)"
   ]
  },
  {
   "cell_type": "code",
   "execution_count": null,
   "metadata": {},
   "outputs": [],
   "source": [
    "entities={\n",
    "             \"entities\": {\n",
    "                 \"MISC\": {\"short\": \"Misc\", \"verbose\": \"Miscellaneous\"}, \n",
    "                 \"RELIGION\": {\"short\": \"Relig\", \"verbose\": \"Religion\"}, \n",
    "                 \"ORGANIZATION\": {\"short\": \"Org\", \"verbose\":\"Organization\"}, \n",
    "                 \"LOCATION\": {\"short\": \"Loc\", \"verbose\": \"Location\"},\n",
    "                 \"DURATION\": {\"short\": \"Dur\", \"verbose\": \"Duration\"},\n",
    "                 \"COUNTRY\": {\"short\": \"Cntr\", \"verbose\": \"Country\"},\n",
    "                 \"NATIONALITY\": {\"short\": \"Nation\", \"verbose\": \"Nationality\"},\n",
    "                 \"CAUSE_OF_DEATH\": {\"short\": \"CoD\", \"verbose\": \"Cause of Death\"},\n",
    "                 \"IDEOLOGY\": {\"short\": \"Ideo\", \"verbose\": \"Ideology\"},\n",
    "                 \"URL\": {\"short\": \"url\", \"verbose\": \"URL\"},\n",
    "                 \"STATE_OR_PROVINCE\": {\"short\": \"SoP\", \"verbose\": \"State or Province\"},\n",
    "                 \"NUMBER\": {\"short\": \"Num\", \"verbose\": \"Number\"},\n",
    "                 \"CRIMINAL_CHARGE\": {\"short\": \"Crim\", \"verbose\": \"Criminal Charge\"},\n",
    "                 \"TITLE\": {\"short\": \"Tit\", \"verbose\": \"Title\"},\n",
    "                 \"PERSON\": {\"short\": \"Per\", \"verbose\": \"Person\"},\n",
    "                 \"DATE\": {\"short\": \"Dat\", \"verbose\": \"Date\"},\n",
    "                 \"CITY\": {\"short\": \"Cit\", \"verbose\": \"City\"}\n",
    "             }\n",
    "         }"
   ]
  },
  {
   "cell_type": "code",
   "execution_count": null,
   "metadata": {},
   "outputs": [],
   "source": [
    "relations={\n",
    "             \"relations\": {\n",
    "                 \"org:city_of_headquarters\": {\"short\": \"City of Headquarters\", \"verbose\": \"City of Headquarters\", \"symmetric\": false}, \n",
    "                 \"per:spouse\": {\"short\": \"Spouse\", \"verbose\": \"Spouse\", \"symmetric\": false}, \n",
    "                 \"per:cities_of_residence\": {\"short\": \"Cities of Residence\", \"verbose\": \"Cities of Residence\", \"symmetric\": false}, \n",
    "                 \"per:city_of_death\": {\"short\": \"City of Death\", \"verbose\": \"City of Death\", \"symmetric\": false}, \n",
    "                 \"org:country_of_headquarters\": {\"short\": \"Country of Headquarters\", \"verbose\": \"Country of Headquarters\", \"symmetric\": false}, \n",
    "                 \"per:country_of_birth\": {\"short\": \"Country of Birth\", \"verbose\": \"Country of Birth\", \"symmetric\": false}, \n",
    "                 \"per:siblings\": {\"short\": \"Siblings\", \"verbose\": \"Siblings\", \"symmetric\": false}, \n",
    "                 \"org:shareholders\": {\"short\": \"Shareholders\", \"verbose\": \"Shareholders\", \"symmetric\": false}, \n",
    "                 \"org:member_of\": {\"short\": \"Member of\", \"verbose\": \"Member of\", \"symmetric\": false}, \n",
    "                 \"org:dissolved\": {\"short\": \"Dissolved\", \"verbose\": \"Dissolved\", \"symmetric\": false}, \n",
    "                 \"per:schools_attended\": {\"short\": \"Schools Attended\", \"verbose\": \"Schools Attended\", \"symmetric\": false}, \n",
    "                 \"org:political/religious_affiliation\": {\"short\": \"Political/Religious affiliation\", \"verbose\": \"Political/Religious affiliation\", \"symmetric\": false}, \n",
    "                 \"per:city_of_birth\": {\"short\": \"City of Birth\", \"verbose\": \"City of Birth\", \"symmetric\": false}, \n",
    "                 \"per:children\": {\"short\": \"Children\", \"verbose\": \"Children\", \"symmetric\": false}, \n",
    "                 \"org:top_members/employees\": {\"short\": \"Top Members / Employees\", \"verbose\": \"Top Members / Employees\", \"symmetric\": false}, \n",
    "                 \"per:stateorprovince_of_birth\": {\"short\": \"State or Province of Birth\", \"verbose\": \"State or Province of Birth\", \"symmetric\": false}, \n",
    "                 \"per:stateorprovince_of_death\": {\"short\": \"State or Province of Death\", \"verbose\": \"State or Province of Death\", \"symmetric\": false}, \n",
    "                 \"org:number_of_employees/members\": {\"short\": \"Number of Employees/Members\", \"verbose\": \"Number of Employees/Members\", \"symmetric\": false}, \n",
    "                 \"per:countries_of_residence\": {\"short\": \"Countries of Residence\", \"verbose\": \"Countries of Residence\", \"symmetric\": false}, \n",
    "                 \"org:founded\": {\"short\": \"Founded\", \"verbose\": \"Founded\", \"symmetric\": false}, \n",
    "                 \"per:country_of_death\": {\"short\": \"Country of Death\", \"verbose\": \"Country of Death\", \"symmetric\": false}, \n",
    "                 \"per:title\": {\"short\": \"Title\", \"verbose\": \"Title\", \"symmetric\": false}, \n",
    "                 \"org:stateorprovince_of_headquarters\": {\"short\": \"State or Province of Headquarters\", \"verbose\": \"State or Province of Headquarters\", \"symmetric\": false}, \n",
    "                 \"per:religion\": {\"short\": \"Religion\", \"verbose\": \"Religion\", \"symmetric\": false}, \n",
    "                 \"org:founded_by\": {\"short\": \"Founded by\", \"verbose\": \"Founded by\", \"symmetric\": false}, \n",
    "                 \"per:age\": {\"short\": \"Age\", \"verbose\": \"Age\", \"symmetric\": false}, \n",
    "                 \"no_relation\": {\"short\": \"No Relation\", \"verbose\": \"No Relation\", \"symmetric\": false}, \n",
    "                 \"per:stateorprovinces_of_residence\": {\"short\": \"State or Provinces of Residence\", \"verbose\": \"State or Provinces of Residence\", \"symmetric\": false}, \n",
    "                 \"org:website\": {\"short\": \"Website\", \"verbose\": \"Website\", \"symmetric\": false}, \n",
    "                 \"per:employee_of\": {\"short\": \"Employee Of\", \"verbose\": \"Employee Of\", \"symmetric\": false}, \n",
    "                 \"org:parents\": {\"short\": \"Organization Parents\", \"verbose\": \"Organization Parents\", \"symmetric\": false}, \n",
    "                 \"per:parents\": {\"short\": \"Person Parents\", \"verbose\": \"Person Parents\", \"symmetric\": false}, \n",
    "                 \"org:alternate_names\": {\"short\": \"Organization Alternate Names\", \"verbose\": \"Organization Alternate Names\", \"symmetric\": false}, \n",
    "                 \"org:subsidiaries\": {\"short\": \"Subsidiaries\", \"verbose\": \"Subsidiaries\", \"symmetric\": false}, \n",
    "                 \"per:alternate_names\": {\"short\": \"Person Alternate Names\", \"verbose\": \"Person Alternate Names\", \"symmetric\": false}, \n",
    "                 \"per:cause_of_death\": {\"short\": \"Cause of Death\", \"verbose\": \"Cause of Death\", \"symmetric\": false}, \n",
    "                 \"per:date_of_death\": {\"short\": \"Date of Death\", \"verbose\": \"Date of Death\", \"symmetric\": false}, \n",
    "                 \"org:members\": {\"short\": \"Members\", \"verbose\": \"Members\", \"symmetric\": false}, \n",
    "                 \"per:date_of_birth\": {\"short\": \"Date of Birth\", \"verbose\": \"Date of Birth\", \"symmetric\": false}, \n",
    "                 \"per:charges\": {\"short\": \"Charges\", \"verbose\": \"Charges\", \"symmetric\": false}, \n",
    "                 \"per:origin\": {\"short\": \"Origin\", \"verbose\": \"Origin\", \"symmetric\": false}, \n",
    "                 \"per:other_family\": {\"short\": \"Other Family\", \"verbose\": \"Other Family\", \"symmetric\": false}\n",
    "             }\n",
    "         }"
   ]
  },
  {
   "cell_type": "code",
   "execution_count": 45,
   "metadata": {},
   "outputs": [],
   "source": [
    "convert_tacred_benchmark_to_semeval_format()"
   ]
  },
  {
   "cell_type": "code",
   "execution_count": 26,
   "metadata": {},
   "outputs": [],
   "source": [
    "tacred_semeval_examples = read_json(tacred_train_path_semeval)"
   ]
  },
  {
   "cell_type": "code",
   "execution_count": 27,
   "metadata": {
    "scrolled": false
   },
   "outputs": [
    {
     "name": "stdout",
     "output_type": "stream",
     "text": [
      "{'org:dissolved', 'org:city_of_headquarters', 'per:title', 'org:founded_by', 'org:alternate_names', 'no_relation', 'per:children', 'org:members', 'per:date_of_death', 'per:religion', 'per:other_family', 'per:origin', 'org:country_of_headquarters', 'org:member_of', 'per:countries_of_residence', 'per:cause_of_death', 'org:number_of_employees/members', 'org:founded', 'org:subsidiaries', 'per:cities_of_residence', 'org:top_members/employees', 'per:parents', 'per:city_of_birth', 'org:shareholders', 'per:employee_of', 'per:country_of_birth', 'per:age', 'per:country_of_death', 'per:alternate_names', 'org:website', 'per:stateorprovince_of_birth', 'per:stateorprovinces_of_residence', 'org:political/religious_affiliation', 'per:siblings', 'per:date_of_birth', 'org:parents', 'per:charges', 'per:stateorprovince_of_death', 'per:spouse', 'per:city_of_death', 'org:stateorprovince_of_headquarters', 'per:schools_attended'}\n"
     ]
    }
   ],
   "source": [
    "relations = set()\n",
    "for example in tacred_semeval_examples:\n",
    "    relations.add(example['relation'])\n",
    "print(relations)"
   ]
  },
  {
   "cell_type": "code",
   "execution_count": 30,
   "metadata": {},
   "outputs": [],
   "source": [
    "relations_list = {}\n",
    "for idx, relation in enumerate(relations):\n",
    "    relations_list[relation] = idx\n",
    "save_json(tacred_rel2id_path_semeval, relations_list)"
   ]
  },
  {
   "cell_type": "code",
   "execution_count": 32,
   "metadata": {},
   "outputs": [
    {
     "ename": "TypeError",
     "evalue": "dumps() takes 1 positional argument but 2 were given",
     "output_type": "error",
     "traceback": [
      "\u001b[0;31m---------------------------------------------------------------------------\u001b[0m",
      "\u001b[0;31mTypeError\u001b[0m                                 Traceback (most recent call last)",
      "\u001b[0;32m<ipython-input-32-257fa61a84d7>\u001b[0m in \u001b[0;36m<module>\u001b[0;34m\u001b[0m\n\u001b[0;32m----> 1\u001b[0;31m \u001b[0msave_json_list\u001b[0m\u001b[0;34m(\u001b[0m\u001b[0;34m'test.json'\u001b[0m\u001b[0;34m,\u001b[0m \u001b[0;34m[\u001b[0m\u001b[0msemeval_example\u001b[0m\u001b[0;34m,\u001b[0m \u001b[0msemeval_example\u001b[0m\u001b[0;34m]\u001b[0m\u001b[0;34m)\u001b[0m\u001b[0;34m\u001b[0m\u001b[0;34m\u001b[0m\u001b[0m\n\u001b[0m",
      "\u001b[0;32m<ipython-input-31-2ad3d0f255f6>\u001b[0m in \u001b[0;36msave_json_list\u001b[0;34m(json_path, examples)\u001b[0m\n\u001b[1;32m     10\u001b[0m \u001b[0;32mdef\u001b[0m \u001b[0msave_json_list\u001b[0m\u001b[0;34m(\u001b[0m\u001b[0mjson_path\u001b[0m\u001b[0;34m,\u001b[0m \u001b[0mexamples\u001b[0m\u001b[0;34m)\u001b[0m\u001b[0;34m:\u001b[0m\u001b[0;34m\u001b[0m\u001b[0;34m\u001b[0m\u001b[0m\n\u001b[1;32m     11\u001b[0m     \u001b[0;32mwith\u001b[0m \u001b[0mopen\u001b[0m\u001b[0;34m(\u001b[0m\u001b[0mjson_path\u001b[0m\u001b[0;34m,\u001b[0m \u001b[0;34m'w'\u001b[0m\u001b[0;34m)\u001b[0m \u001b[0;32mas\u001b[0m \u001b[0moutfile\u001b[0m\u001b[0;34m:\u001b[0m\u001b[0;34m\u001b[0m\u001b[0;34m\u001b[0m\u001b[0m\n\u001b[0;32m---> 12\u001b[0;31m         \u001b[0mjson\u001b[0m\u001b[0;34m.\u001b[0m\u001b[0mdumps\u001b[0m\u001b[0;34m(\u001b[0m\u001b[0mexamples\u001b[0m\u001b[0;34m,\u001b[0m \u001b[0moutfile\u001b[0m\u001b[0;34m)\u001b[0m\u001b[0;34m\u001b[0m\u001b[0;34m\u001b[0m\u001b[0m\n\u001b[0m\u001b[1;32m     13\u001b[0m \u001b[0;34m\u001b[0m\u001b[0m\n\u001b[1;32m     14\u001b[0m \u001b[0;32mdef\u001b[0m \u001b[0mconvert_token\u001b[0m\u001b[0;34m(\u001b[0m\u001b[0mtoken\u001b[0m\u001b[0;34m)\u001b[0m\u001b[0;34m:\u001b[0m\u001b[0;34m\u001b[0m\u001b[0;34m\u001b[0m\u001b[0m\n",
      "\u001b[0;31mTypeError\u001b[0m: dumps() takes 1 positional argument but 2 were given"
     ]
    }
   ],
   "source": [
    "save_json_list('test.json', [semeval_example, semeval_example])"
   ]
  },
  {
   "cell_type": "code",
   "execution_count": null,
   "metadata": {},
   "outputs": [],
   "source": []
  }
 ],
 "metadata": {
  "kernelspec": {
   "display_name": "fast-bert",
   "language": "python",
   "name": "fast-bert"
  },
  "language_info": {
   "codemirror_mode": {
    "name": "ipython",
    "version": 3
   },
   "file_extension": ".py",
   "mimetype": "text/x-python",
   "name": "python",
   "nbconvert_exporter": "python",
   "pygments_lexer": "ipython3",
   "version": "3.7.5"
  }
 },
 "nbformat": 4,
 "nbformat_minor": 2
}
